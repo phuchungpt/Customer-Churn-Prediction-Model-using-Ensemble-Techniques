import pickle

# Đường dẫn tới file pkl
file_path = 'path/to/your/file.pkl'

# Mở và đọc file pkl
with open(file_path, 'rb') as file:  # 'rb' để mở file ở chế độ nhị phân
    data = pickle.load(file)

# In dữ liệu đã đọc
print(data)